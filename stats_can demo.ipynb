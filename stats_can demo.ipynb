{
 "cells": [
  {
   "cell_type": "markdown",
   "metadata": {},
   "source": [
    "# Demo notebook for stats_can package\n",
    "\n",
    "API documentation for StatsCan can be found here: https://www.statcan.gc.ca/eng/developers/wds\n",
    "\n",
    "If you're looking for Table/Vector IDs to use in the app you can find them through this: https://www150.statcan.gc.ca/n1/en/type/data\n",
    "\n",
    "Anaconda package here: https://anaconda.org/ian.e.preston/stats_can\n",
    "\n",
    "This notebook will provide an overview of the key functionality of the stats_can python package"
   ]
  },
  {
   "cell_type": "code",
   "execution_count": 1,
   "metadata": {},
   "outputs": [],
   "source": [
    "import stats_can\n",
    "import datetime as dt\n",
    "import pandas as pd"
   ]
  },
  {
   "cell_type": "markdown",
   "metadata": {},
   "source": [
    "The first thing we can do is retrieve a list of tables/vectors that have been updated today:\n",
    "Note that the changed series list returns a huuuuuge list and takes forever to run"
   ]
  },
  {
   "cell_type": "code",
   "execution_count": 2,
   "metadata": {},
   "outputs": [
    {
     "data": {
      "text/plain": [
       "[{'responseStatusCode': 0,\n",
       "  'vectorId': 111666243,\n",
       "  'productId': 33100036,\n",
       "  'coordinate': '1.20.0.0.0.0.0.0.0.0',\n",
       "  'releaseTime': '2018-08-22T08:30'},\n",
       " {'responseStatusCode': 0,\n",
       "  'vectorId': 111666232,\n",
       "  'productId': 33100036,\n",
       "  'coordinate': '1.9.0.0.0.0.0.0.0.0',\n",
       "  'releaseTime': '2018-08-22T08:30'}]"
      ]
     },
     "execution_count": 2,
     "metadata": {},
     "output_type": "execute_result"
    }
   ],
   "source": [
    "changed_series = stats_can.get_changed_series_list()\n",
    "# show just the first few\n",
    "changed_series[0:min(2, len(changed_series))]"
   ]
  },
  {
   "cell_type": "code",
   "execution_count": 3,
   "metadata": {},
   "outputs": [
    {
     "data": {
      "text/plain": [
       "[{'responseStatusCode': 0,\n",
       "  'productId': 33100036,\n",
       "  'releaseTime': '2018-08-22T08:30'},\n",
       " {'responseStatusCode': 0,\n",
       "  'productId': 10100139,\n",
       "  'releaseTime': '2018-08-22T08:30'}]"
      ]
     },
     "execution_count": 3,
     "metadata": {},
     "output_type": "execute_result"
    }
   ],
   "source": [
    "# This takes a date argument or defaults to today\n",
    "changed_tables = stats_can.get_changed_cube_list()\n",
    "# Show just the first few\n",
    "changed_tables[0:min(2, len(changed_tables))]"
   ]
  },
  {
   "cell_type": "markdown",
   "metadata": {},
   "source": [
    "MetaData on tables can also be retrieved:\n",
    "Note that the package makes some minimal efforts to parse vector/cube/table names into the format accepted by StatsCan"
   ]
  },
  {
   "cell_type": "code",
   "execution_count": 4,
   "metadata": {},
   "outputs": [
    {
     "data": {
      "text/plain": [
       "'Consumer Price Index (CPI) statistics, alternative measures, unadjusted and seasonally adjusted, Bank of Canada'"
      ]
     },
     "execution_count": 4,
     "metadata": {},
     "output_type": "execute_result"
    }
   ],
   "source": [
    "table_name = '10-10-0106-01'\n",
    "table_meta = stats_can.get_cube_metadata(table_name)\n",
    "table_meta[0]['cubeTitleEn']"
   ]
  },
  {
   "cell_type": "markdown",
   "metadata": {},
   "source": [
    "You can perform a similar operation for individual or lists of vectors"
   ]
  },
  {
   "cell_type": "code",
   "execution_count": 5,
   "metadata": {},
   "outputs": [
    {
     "data": {
      "text/plain": [
       "'Alberta;All-items excluding energy'"
      ]
     },
     "execution_count": 5,
     "metadata": {},
     "output_type": "execute_result"
    }
   ],
   "source": [
    "vectors = ['v74804', 'v41692457']\n",
    "series_info = stats_can.get_series_info_from_vector(vectors)\n",
    "series_info[0]['SeriesTitleEn']"
   ]
  },
  {
   "cell_type": "markdown",
   "metadata": {},
   "source": [
    "Tables for vectors is mostly a helper method, if you have a list of vectors that you're interested in, it will return a dictionary mapping what tables those vectors are in, as well as return a list of all tables needed to retrieve those vectors"
   ]
  },
  {
   "cell_type": "code",
   "execution_count": 6,
   "metadata": {},
   "outputs": [
    {
     "data": {
      "text/plain": [
       "{41692457: '18100004',\n",
       " 74804: '23100216',\n",
       " 'all_tables': ['23100216', '18100004']}"
      ]
     },
     "execution_count": 6,
     "metadata": {},
     "output_type": "execute_result"
    }
   ],
   "source": [
    "stats_can.get_tables_for_vectors(vectors)"
   ]
  },
  {
   "cell_type": "markdown",
   "metadata": {},
   "source": [
    "Similar deal for table subsets for vectors, it returns a dictionary with keys of table names mapped to a list of vectors contained in those tables"
   ]
  },
  {
   "cell_type": "code",
   "execution_count": 7,
   "metadata": {},
   "outputs": [
    {
     "data": {
      "text/plain": [
       "{'23100216': [74804], '18100004': [41692457]}"
      ]
     },
     "execution_count": 7,
     "metadata": {},
     "output_type": "execute_result"
    }
   ],
   "source": [
    "stats_can.table_subsets_from_vectors(vectors)"
   ]
  },
  {
   "cell_type": "markdown",
   "metadata": {},
   "source": [
    "Vectors to df will take a list of vectors and either an argument specifying the number of most recent periods to retrieve, or a start and end date for the period in which the data was released. Note that release date is not the same as the reference period, which is the date index you'll see in the returned dataframe"
   ]
  },
  {
   "cell_type": "code",
   "execution_count": 8,
   "metadata": {},
   "outputs": [
    {
     "data": {
      "text/html": [
       "<div>\n",
       "<style scoped>\n",
       "    .dataframe tbody tr th:only-of-type {\n",
       "        vertical-align: middle;\n",
       "    }\n",
       "\n",
       "    .dataframe tbody tr th {\n",
       "        vertical-align: top;\n",
       "    }\n",
       "\n",
       "    .dataframe thead th {\n",
       "        text-align: right;\n",
       "    }\n",
       "</style>\n",
       "<table border=\"1\" class=\"dataframe\">\n",
       "  <thead>\n",
       "    <tr style=\"text-align: right;\">\n",
       "      <th></th>\n",
       "      <th>v41692457</th>\n",
       "      <th>v74804</th>\n",
       "    </tr>\n",
       "    <tr>\n",
       "      <th>refPer</th>\n",
       "      <th></th>\n",
       "      <th></th>\n",
       "    </tr>\n",
       "  </thead>\n",
       "  <tbody>\n",
       "    <tr>\n",
       "      <th>2018-01-01</th>\n",
       "      <td>NaN</td>\n",
       "      <td>291408.0</td>\n",
       "    </tr>\n",
       "    <tr>\n",
       "      <th>2018-02-01</th>\n",
       "      <td>NaN</td>\n",
       "      <td>263194.0</td>\n",
       "    </tr>\n",
       "    <tr>\n",
       "      <th>2018-03-01</th>\n",
       "      <td>137.8</td>\n",
       "      <td>314121.0</td>\n",
       "    </tr>\n",
       "    <tr>\n",
       "      <th>2018-04-01</th>\n",
       "      <td>137.7</td>\n",
       "      <td>301073.0</td>\n",
       "    </tr>\n",
       "    <tr>\n",
       "      <th>2018-05-01</th>\n",
       "      <td>138.0</td>\n",
       "      <td>306822.0</td>\n",
       "    </tr>\n",
       "    <tr>\n",
       "      <th>2018-06-01</th>\n",
       "      <td>138.2</td>\n",
       "      <td>NaN</td>\n",
       "    </tr>\n",
       "    <tr>\n",
       "      <th>2018-07-01</th>\n",
       "      <td>138.7</td>\n",
       "      <td>NaN</td>\n",
       "    </tr>\n",
       "  </tbody>\n",
       "</table>\n",
       "</div>"
      ],
      "text/plain": [
       "            v41692457    v74804\n",
       "refPer                         \n",
       "2018-01-01        NaN  291408.0\n",
       "2018-02-01        NaN  263194.0\n",
       "2018-03-01      137.8  314121.0\n",
       "2018-04-01      137.7  301073.0\n",
       "2018-05-01      138.0  306822.0\n",
       "2018-06-01      138.2       NaN\n",
       "2018-07-01      138.7       NaN"
      ]
     },
     "execution_count": 8,
     "metadata": {},
     "output_type": "execute_result"
    }
   ],
   "source": [
    "df_n = stats_can.vectors_to_df(vectors, periods=5)\n",
    "df_n"
   ]
  },
  {
   "cell_type": "code",
   "execution_count": 9,
   "metadata": {},
   "outputs": [
    {
     "data": {
      "text/html": [
       "<div>\n",
       "<style scoped>\n",
       "    .dataframe tbody tr th:only-of-type {\n",
       "        vertical-align: middle;\n",
       "    }\n",
       "\n",
       "    .dataframe tbody tr th {\n",
       "        vertical-align: top;\n",
       "    }\n",
       "\n",
       "    .dataframe thead th {\n",
       "        text-align: right;\n",
       "    }\n",
       "</style>\n",
       "<table border=\"1\" class=\"dataframe\">\n",
       "  <thead>\n",
       "    <tr style=\"text-align: right;\">\n",
       "      <th></th>\n",
       "      <th>v41692457</th>\n",
       "      <th>v74804</th>\n",
       "    </tr>\n",
       "    <tr>\n",
       "      <th>refPer</th>\n",
       "      <th></th>\n",
       "      <th></th>\n",
       "    </tr>\n",
       "  </thead>\n",
       "  <tbody>\n",
       "    <tr>\n",
       "      <th>2013-01-01</th>\n",
       "      <td>124.5</td>\n",
       "      <td>NaN</td>\n",
       "    </tr>\n",
       "    <tr>\n",
       "      <th>2013-02-01</th>\n",
       "      <td>125.1</td>\n",
       "      <td>NaN</td>\n",
       "    </tr>\n",
       "    <tr>\n",
       "      <th>2013-03-01</th>\n",
       "      <td>125.5</td>\n",
       "      <td>NaN</td>\n",
       "    </tr>\n",
       "    <tr>\n",
       "      <th>2013-04-01</th>\n",
       "      <td>125.8</td>\n",
       "      <td>NaN</td>\n",
       "    </tr>\n",
       "    <tr>\n",
       "      <th>2013-05-01</th>\n",
       "      <td>126.3</td>\n",
       "      <td>NaN</td>\n",
       "    </tr>\n",
       "  </tbody>\n",
       "</table>\n",
       "</div>"
      ],
      "text/plain": [
       "            v41692457  v74804\n",
       "refPer                       \n",
       "2013-01-01      124.5     NaN\n",
       "2013-02-01      125.1     NaN\n",
       "2013-03-01      125.5     NaN\n",
       "2013-04-01      125.8     NaN\n",
       "2013-05-01      126.3     NaN"
      ]
     },
     "execution_count": 9,
     "metadata": {},
     "output_type": "execute_result"
    }
   ],
   "source": [
    "df_d = stats_can.vectors_to_df(vectors, start_release_date=dt.date(2018, 1, 1), end_release_date=dt.date(2018, 8, 20))\n",
    "df_d.head()"
   ]
  },
  {
   "cell_type": "markdown",
   "metadata": {},
   "source": [
    "The package has some methods exposed to download zipped csv files of entire tables and read them into dataframes, but I've got an updated implementation that just uses those methods to download tables and read them into an hdf5 file (https://support.hdfgroup.org/HDF5/) which ends up being way faster. For one particularly large table my machine ran about 2.5 minutes to load a zipped csv of the table into a dataframe, whereas reading it from hdf5 took 30 seconds. If you're going to be accessing the tables with an regularity it's totally worth using hdf5.\n",
    "\n",
    "These are the main resources I used to figure out hdf5 for this\n",
    "\n",
    "https://www.pythonforthelab.com/blog/how-to-use-hdf5-files-in-python/\n",
    "\n",
    "https://realpython.com/fast-flexible-pandas/#prevent-reprocessing-with-hdfstore\n",
    "\n",
    "https://pandas.pydata.org/pandas-docs/stable/generated/pandas.read_hdf.html"
   ]
  },
  {
   "cell_type": "code",
   "execution_count": 10,
   "metadata": {},
   "outputs": [],
   "source": [
    "# can also include arguments for where to store the h5 file and what to name it\n",
    "tables = ['27100022', '18100204']\n",
    "stats_can.tables_to_h5(tables)"
   ]
  },
  {
   "cell_type": "markdown",
   "metadata": {},
   "source": [
    "The h5_update_tables function will compare the metadata associated with tables in an h5 file, compare it to the metadata from the StatsCan website, download any out of date tables and read them into the h5 file. There's no output so I won't call the method here, but the syntax is:\n",
    "stats_can.h5_update_tables(h5file='name_of_file.h5', path='path_to_h5_file')"
   ]
  },
  {
   "cell_type": "markdown",
   "metadata": {},
   "source": [
    "Having added a couple tables into the h5 file we can read them out using the table_from_h5 method."
   ]
  },
  {
   "cell_type": "code",
   "execution_count": 11,
   "metadata": {},
   "outputs": [
    {
     "data": {
      "text/html": [
       "<div>\n",
       "<style scoped>\n",
       "    .dataframe tbody tr th:only-of-type {\n",
       "        vertical-align: middle;\n",
       "    }\n",
       "\n",
       "    .dataframe tbody tr th {\n",
       "        vertical-align: top;\n",
       "    }\n",
       "\n",
       "    .dataframe thead th {\n",
       "        text-align: right;\n",
       "    }\n",
       "</style>\n",
       "<table border=\"1\" class=\"dataframe\">\n",
       "  <thead>\n",
       "    <tr style=\"text-align: right;\">\n",
       "      <th></th>\n",
       "      <th>REF_DATE</th>\n",
       "      <th>GEO</th>\n",
       "      <th>DGUID</th>\n",
       "      <th>Performing sector</th>\n",
       "      <th>Occupational category</th>\n",
       "      <th>Type of science</th>\n",
       "      <th>UOM</th>\n",
       "      <th>UOM_ID</th>\n",
       "      <th>SCALAR_FACTOR</th>\n",
       "      <th>SCALAR_ID</th>\n",
       "      <th>VECTOR</th>\n",
       "      <th>COORDINATE</th>\n",
       "      <th>VALUE</th>\n",
       "      <th>STATUS</th>\n",
       "      <th>SYMBOL</th>\n",
       "      <th>TERMINATED</th>\n",
       "      <th>DECIMALS</th>\n",
       "    </tr>\n",
       "  </thead>\n",
       "  <tbody>\n",
       "    <tr>\n",
       "      <th>0</th>\n",
       "      <td>2000-01-01</td>\n",
       "      <td>Canada</td>\n",
       "      <td>2016A000011124</td>\n",
       "      <td>Total performing sector</td>\n",
       "      <td>Total personnel</td>\n",
       "      <td>Total sciences</td>\n",
       "      <td>Number</td>\n",
       "      <td>223</td>\n",
       "      <td>units</td>\n",
       "      <td>0</td>\n",
       "      <td>v54329358</td>\n",
       "      <td>1.1.1.1</td>\n",
       "      <td>167940.0</td>\n",
       "      <td>NaN</td>\n",
       "      <td>NaN</td>\n",
       "      <td>NaN</td>\n",
       "      <td>0</td>\n",
       "    </tr>\n",
       "    <tr>\n",
       "      <th>1</th>\n",
       "      <td>2000-01-01</td>\n",
       "      <td>Canada</td>\n",
       "      <td>2016A000011124</td>\n",
       "      <td>Total performing sector</td>\n",
       "      <td>Total personnel</td>\n",
       "      <td>Natural sciences and engineering</td>\n",
       "      <td>Number</td>\n",
       "      <td>223</td>\n",
       "      <td>units</td>\n",
       "      <td>0</td>\n",
       "      <td>v54329359</td>\n",
       "      <td>1.1.1.2</td>\n",
       "      <td>147290.0</td>\n",
       "      <td>NaN</td>\n",
       "      <td>NaN</td>\n",
       "      <td>t</td>\n",
       "      <td>0</td>\n",
       "    </tr>\n",
       "    <tr>\n",
       "      <th>2</th>\n",
       "      <td>2000-01-01</td>\n",
       "      <td>Canada</td>\n",
       "      <td>2016A000011124</td>\n",
       "      <td>Total performing sector</td>\n",
       "      <td>Total personnel</td>\n",
       "      <td>Social sciences and humanities</td>\n",
       "      <td>Number</td>\n",
       "      <td>223</td>\n",
       "      <td>units</td>\n",
       "      <td>0</td>\n",
       "      <td>v54329360</td>\n",
       "      <td>1.1.1.3</td>\n",
       "      <td>20650.0</td>\n",
       "      <td>NaN</td>\n",
       "      <td>NaN</td>\n",
       "      <td>t</td>\n",
       "      <td>0</td>\n",
       "    </tr>\n",
       "    <tr>\n",
       "      <th>3</th>\n",
       "      <td>2000-01-01</td>\n",
       "      <td>Canada</td>\n",
       "      <td>2016A000011124</td>\n",
       "      <td>Total performing sector</td>\n",
       "      <td>Researchers</td>\n",
       "      <td>Total sciences</td>\n",
       "      <td>Number</td>\n",
       "      <td>223</td>\n",
       "      <td>units</td>\n",
       "      <td>0</td>\n",
       "      <td>v54329361</td>\n",
       "      <td>1.1.2.1</td>\n",
       "      <td>107900.0</td>\n",
       "      <td>NaN</td>\n",
       "      <td>NaN</td>\n",
       "      <td>NaN</td>\n",
       "      <td>0</td>\n",
       "    </tr>\n",
       "    <tr>\n",
       "      <th>4</th>\n",
       "      <td>2000-01-01</td>\n",
       "      <td>Canada</td>\n",
       "      <td>2016A000011124</td>\n",
       "      <td>Total performing sector</td>\n",
       "      <td>Researchers</td>\n",
       "      <td>Natural sciences and engineering</td>\n",
       "      <td>Number</td>\n",
       "      <td>223</td>\n",
       "      <td>units</td>\n",
       "      <td>0</td>\n",
       "      <td>v54329362</td>\n",
       "      <td>1.1.2.2</td>\n",
       "      <td>91590.0</td>\n",
       "      <td>NaN</td>\n",
       "      <td>NaN</td>\n",
       "      <td>t</td>\n",
       "      <td>0</td>\n",
       "    </tr>\n",
       "  </tbody>\n",
       "</table>\n",
       "</div>"
      ],
      "text/plain": [
       "    REF_DATE     GEO           DGUID        Performing sector  \\\n",
       "0 2000-01-01  Canada  2016A000011124  Total performing sector   \n",
       "1 2000-01-01  Canada  2016A000011124  Total performing sector   \n",
       "2 2000-01-01  Canada  2016A000011124  Total performing sector   \n",
       "3 2000-01-01  Canada  2016A000011124  Total performing sector   \n",
       "4 2000-01-01  Canada  2016A000011124  Total performing sector   \n",
       "\n",
       "  Occupational category                   Type of science     UOM UOM_ID  \\\n",
       "0       Total personnel                    Total sciences  Number    223   \n",
       "1       Total personnel  Natural sciences and engineering  Number    223   \n",
       "2       Total personnel    Social sciences and humanities  Number    223   \n",
       "3           Researchers                    Total sciences  Number    223   \n",
       "4           Researchers  Natural sciences and engineering  Number    223   \n",
       "\n",
       "  SCALAR_FACTOR SCALAR_ID     VECTOR COORDINATE     VALUE STATUS SYMBOL  \\\n",
       "0        units          0  v54329358    1.1.1.1  167940.0    NaN    NaN   \n",
       "1        units          0  v54329359    1.1.1.2  147290.0    NaN    NaN   \n",
       "2        units          0  v54329360    1.1.1.3   20650.0    NaN    NaN   \n",
       "3        units          0  v54329361    1.1.2.1  107900.0    NaN    NaN   \n",
       "4        units          0  v54329362    1.1.2.2   91590.0    NaN    NaN   \n",
       "\n",
       "  TERMINATED DECIMALS  \n",
       "0        NaN        0  \n",
       "1          t        0  \n",
       "2          t        0  \n",
       "3        NaN        0  \n",
       "4          t        0  "
      ]
     },
     "execution_count": 11,
     "metadata": {},
     "output_type": "execute_result"
    }
   ],
   "source": [
    "df_tbl = stats_can.table_from_h5('27100022')\n",
    "df_tbl.head()"
   ]
  },
  {
   "cell_type": "markdown",
   "metadata": {},
   "source": [
    "The local metadata can be retrieved in a similar manner"
   ]
  },
  {
   "cell_type": "code",
   "execution_count": 12,
   "metadata": {},
   "outputs": [
    {
     "data": {
      "text/plain": [
       "'2015-01-01'"
      ]
     },
     "execution_count": 12,
     "metadata": {},
     "output_type": "execute_result"
    }
   ],
   "source": [
    "stats_can.metadata_from_h5('27100022')[0]['cubeEndDate']"
   ]
  },
  {
   "cell_type": "markdown",
   "metadata": {},
   "source": [
    "Can also see what keys are in the file, again helpers for json and df keys are on my todo"
   ]
  },
  {
   "cell_type": "code",
   "execution_count": 13,
   "metadata": {},
   "outputs": [
    {
     "data": {
      "text/plain": [
       "['json_18100204', 'json_27100022', 'table_18100204', 'table_27100022']"
      ]
     },
     "execution_count": 13,
     "metadata": {},
     "output_type": "execute_result"
    }
   ],
   "source": [
    "stats_can.h5_included_keys()"
   ]
  },
  {
   "cell_type": "markdown",
   "metadata": {},
   "source": [
    "You can also tell it to check the metadata in the locally stored tables, compare it against the StatsCan website metadata, and then update any tables, or a subset of tables that have fresh data:"
   ]
  },
  {
   "cell_type": "code",
   "execution_count": 14,
   "metadata": {},
   "outputs": [
    {
     "data": {
      "text/plain": [
       "[]"
      ]
     },
     "execution_count": 14,
     "metadata": {},
     "output_type": "execute_result"
    }
   ],
   "source": [
    "stats_can.h5_update_tables(tables='18100204') # will only check this one table\n",
    "stats_can.h5_update_tables()  # will check all tables in the file and update the appropriate ones"
   ]
  }
 ],
 "metadata": {
  "kernelspec": {
   "display_name": "Python 3",
   "language": "python",
   "name": "python3"
  },
  "language_info": {
   "codemirror_mode": {
    "name": "ipython",
    "version": 3
   },
   "file_extension": ".py",
   "mimetype": "text/x-python",
   "name": "python",
   "nbconvert_exporter": "python",
   "pygments_lexer": "ipython3",
   "version": "3.6.6"
  }
 },
 "nbformat": 4,
 "nbformat_minor": 2
}
